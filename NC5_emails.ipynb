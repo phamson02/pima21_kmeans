{
  "nbformat": 4,
  "nbformat_minor": 2,
  "metadata": {
    "colab": {
      "name": "emails.ipynb",
      "provenance": []
    },
    "kernelspec": {
      "name": "python3",
      "display_name": "Python 3.8.8 64-bit ('base': conda)"
    },
    "language_info": {
      "name": "python",
      "version": "3.8.8",
      "mimetype": "text/x-python",
      "codemirror_mode": {
        "name": "ipython",
        "version": 3
      },
      "pygments_lexer": "ipython3",
      "nbconvert_exporter": "python",
      "file_extension": ".py"
    },
    "interpreter": {
      "hash": "75aabe2114561dcdfc7126c85874a8dcb5868bbe5e87ded39f548a79dea84dc7"
    }
  },
  "cells": [
    {
      "cell_type": "markdown",
      "source": [
        "# NC5: Phân cụm phòng ban dựa trên số lượng email.\n",
        "\n",
        "Công ty PiMA Corp gồm 100 nhân viên được chia làm 4 phòng ban. Mỗi nhân viên có xu hướng trao đổi nhiều emails với người cùng phòng hơn người khác phòng. \n",
        "File `emails.csv` chứa một ma trận $M \\in \\mathbb{R}^{100 \\times 100}$, trong do $M_{ij}$ là số emails nhân viên $i$ gửi tới nhân viên $j$ trong vòng $1$ tháng. **Lưu ý:** $M_{ij}$ có thề khác $M_{ji}$.\n",
        "\n",
        "**Câu hỏi:** Liệu có thể dùng K-means để tìm ra ai thuộc phòng ban nào? Nếu không, bạn có thể đề xuất một cải biến của K-means để tìm giải bài toán trên không?\n",
        "\n",
        "(Đề tuyển trại sinh PiMA 2021 - Phần Tự nghiên cứu)"
      ],
      "metadata": {}
    },
    {
      "cell_type": "markdown",
      "source": [
        "## Trả lời:\n",
        "\n",
        "Khó khăn khi áp dụng K-means trong trường hợp trên là các điểm dữ liệu không được cho dưới dạng một vector mà bởi một ma trận gồm thông tin về \"độ giống nhau\" giữa một cặp điểm. Em đề xuất sử dụng một thuật toán phân cụm là [Spectral Clustering](https://arxiv.org/pdf/0711.0189.pdf) để giải quyết bài toán có kiểu dữ liệu đầu vào đặc biệt này.\n",
        "\n",
        "(Spectral Clustering không phải là một cải biến của K-means, nhưng là cách đã được sử dụng trong khi giải đề tuyển sinh. Một cải biến của K-means có thể giải quyết bài toán trên là [K-medoids](https://en.wikipedia.org/wiki/K-medoids).)"
      ],
      "metadata": {}
    },
    {
      "cell_type": "markdown",
      "source": [
        "## Import các thư viện"
      ],
      "metadata": {
        "id": "f2TdfNeMQuK_"
      }
    },
    {
      "cell_type": "code",
      "execution_count": 1,
      "source": [
        "import pandas as pd\n",
        "import numpy as np\n",
        "from sklearn.cluster import SpectralClustering"
      ],
      "outputs": [],
      "metadata": {
        "id": "EHSEoXZYcd4X"
      }
    },
    {
      "cell_type": "markdown",
      "source": [
        "## Load dữ liệu"
      ],
      "metadata": {
        "id": "egrsk3eyQ1_X"
      }
    },
    {
      "cell_type": "code",
      "execution_count": 2,
      "source": [
        "emails = np.genfromtxt('data/emails.csv', delimiter=',')"
      ],
      "outputs": [],
      "metadata": {
        "id": "uWJSkDqqc6eS"
      }
    },
    {
      "cell_type": "code",
      "execution_count": 3,
      "source": [
        "emails"
      ],
      "outputs": [
        {
          "output_type": "execute_result",
          "data": {
            "text/plain": [
              "array([[ 0., 14.,  5., ...,  3., 15.,  2.],\n",
              "       [17.,  0.,  7., ...,  1., 17.,  8.],\n",
              "       [ 3.,  4.,  0., ...,  2.,  2., 16.],\n",
              "       ...,\n",
              "       [ 5.,  2.,  2., ...,  0.,  2.,  5.],\n",
              "       [16., 18.,  6., ...,  2.,  0.,  6.],\n",
              "       [ 1.,  4., 15., ...,  5.,  3.,  0.]])"
            ]
          },
          "metadata": {},
          "execution_count": 3
        }
      ],
      "metadata": {
        "colab": {
          "base_uri": "https://localhost:8080/"
        },
        "id": "7HVFmEQ6dBVK",
        "outputId": "445a59d4-09e3-43a0-cdcf-27d8c9d1b352"
      }
    },
    {
      "cell_type": "markdown",
      "source": [
        "## Sử dụng thuật Spectral Clustering"
      ],
      "metadata": {
        "id": "aJVgqCufRHeM"
      }
    },
    {
      "cell_type": "markdown",
      "source": [
        "Xây dựng ma trận Similarity"
      ],
      "metadata": {
        "id": "advX4lrKTPkY"
      }
    },
    {
      "cell_type": "code",
      "execution_count": 4,
      "source": [
        "similarity = (emails + emails.T)\n",
        "similarity"
      ],
      "outputs": [
        {
          "output_type": "execute_result",
          "data": {
            "text/plain": [
              "array([[ 0., 31.,  8., ...,  8., 31.,  3.],\n",
              "       [31.,  0., 11., ...,  3., 35., 12.],\n",
              "       [ 8., 11.,  0., ...,  4.,  8., 31.],\n",
              "       ...,\n",
              "       [ 8.,  3.,  4., ...,  0.,  4., 10.],\n",
              "       [31., 35.,  8., ...,  4.,  0.,  9.],\n",
              "       [ 3., 12., 31., ..., 10.,  9.,  0.]])"
            ]
          },
          "metadata": {},
          "execution_count": 4
        }
      ],
      "metadata": {
        "colab": {
          "base_uri": "https://localhost:8080/"
        },
        "id": "aOH5zhQsTRsq",
        "outputId": "3fc8486e-3e81-4156-e3d9-ca0ba6b78c11"
      }
    },
    {
      "cell_type": "markdown",
      "source": [
        "Sử dụng Spectral Clustering với số cụm là 4 trên ma trận `Similarity`"
      ],
      "metadata": {
        "id": "RUID7uTTTiED"
      }
    },
    {
      "cell_type": "code",
      "execution_count": 5,
      "source": [
        "spectral = SpectralClustering(n_clusters=4, affinity='precomputed')\n",
        "spectral.fit(similarity)"
      ],
      "outputs": [
        {
          "output_type": "execute_result",
          "data": {
            "text/plain": [
              "SpectralClustering(affinity='precomputed', n_clusters=4)"
            ]
          },
          "metadata": {},
          "execution_count": 5
        }
      ],
      "metadata": {
        "colab": {
          "base_uri": "https://localhost:8080/"
        },
        "id": "UQdbkTj44KKz",
        "outputId": "a8cb79b2-917e-4c49-a56b-1343c4d59661"
      }
    },
    {
      "cell_type": "code",
      "execution_count": 6,
      "source": [
        "labels = spectral.labels_"
      ],
      "outputs": [],
      "metadata": {
        "id": "veb-ZeHD4h6F"
      }
    },
    {
      "cell_type": "code",
      "execution_count": 7,
      "source": [
        "df = pd.DataFrame(labels, columns=['Cluster'])"
      ],
      "outputs": [],
      "metadata": {
        "id": "pVSBgkuHSXj1"
      }
    },
    {
      "cell_type": "code",
      "execution_count": 8,
      "source": [
        "df"
      ],
      "outputs": [
        {
          "output_type": "execute_result",
          "data": {
            "text/plain": [
              "    Cluster\n",
              "0         3\n",
              "1         3\n",
              "2         0\n",
              "3         0\n",
              "4         2\n",
              "..      ...\n",
              "95        1\n",
              "96        2\n",
              "97        1\n",
              "98        3\n",
              "99        0\n",
              "\n",
              "[100 rows x 1 columns]"
            ],
            "text/html": [
              "<div>\n",
              "<style scoped>\n",
              "    .dataframe tbody tr th:only-of-type {\n",
              "        vertical-align: middle;\n",
              "    }\n",
              "\n",
              "    .dataframe tbody tr th {\n",
              "        vertical-align: top;\n",
              "    }\n",
              "\n",
              "    .dataframe thead th {\n",
              "        text-align: right;\n",
              "    }\n",
              "</style>\n",
              "<table border=\"1\" class=\"dataframe\">\n",
              "  <thead>\n",
              "    <tr style=\"text-align: right;\">\n",
              "      <th></th>\n",
              "      <th>Cluster</th>\n",
              "    </tr>\n",
              "  </thead>\n",
              "  <tbody>\n",
              "    <tr>\n",
              "      <th>0</th>\n",
              "      <td>3</td>\n",
              "    </tr>\n",
              "    <tr>\n",
              "      <th>1</th>\n",
              "      <td>3</td>\n",
              "    </tr>\n",
              "    <tr>\n",
              "      <th>2</th>\n",
              "      <td>0</td>\n",
              "    </tr>\n",
              "    <tr>\n",
              "      <th>3</th>\n",
              "      <td>0</td>\n",
              "    </tr>\n",
              "    <tr>\n",
              "      <th>4</th>\n",
              "      <td>2</td>\n",
              "    </tr>\n",
              "    <tr>\n",
              "      <th>...</th>\n",
              "      <td>...</td>\n",
              "    </tr>\n",
              "    <tr>\n",
              "      <th>95</th>\n",
              "      <td>1</td>\n",
              "    </tr>\n",
              "    <tr>\n",
              "      <th>96</th>\n",
              "      <td>2</td>\n",
              "    </tr>\n",
              "    <tr>\n",
              "      <th>97</th>\n",
              "      <td>1</td>\n",
              "    </tr>\n",
              "    <tr>\n",
              "      <th>98</th>\n",
              "      <td>3</td>\n",
              "    </tr>\n",
              "    <tr>\n",
              "      <th>99</th>\n",
              "      <td>0</td>\n",
              "    </tr>\n",
              "  </tbody>\n",
              "</table>\n",
              "<p>100 rows × 1 columns</p>\n",
              "</div>"
            ]
          },
          "metadata": {},
          "execution_count": 8
        }
      ],
      "metadata": {
        "colab": {
          "base_uri": "https://localhost:8080/",
          "height": 419
        },
        "id": "EI_GkLFpSmhd",
        "outputId": "91ce2979-023c-42ae-86e5-c459e0c06db0"
      }
    },
    {
      "cell_type": "code",
      "execution_count": 9,
      "source": [
        "df.value_counts()"
      ],
      "outputs": [
        {
          "output_type": "execute_result",
          "data": {
            "text/plain": [
              "Cluster\n",
              "0          30\n",
              "1          30\n",
              "2          20\n",
              "3          20\n",
              "dtype: int64"
            ]
          },
          "metadata": {},
          "execution_count": 9
        }
      ],
      "metadata": {
        "colab": {
          "base_uri": "https://localhost:8080/"
        },
        "id": "k3qiBuLzTK07",
        "outputId": "09058f24-cbc0-452a-f7dd-3a3c0fe60d37"
      }
    },
    {
      "cell_type": "markdown",
      "source": [
        "Thuật Spectral Clustering phân 100 người vào 4 cụm với số lượng như trên. Tuy thuật toán này rất lợi hại nhưng vẫn cần có yếu tố con người để biết chính xác các cụm `0`, `1`, `2` và `3` là cụm của phòng ban nào :))"
      ],
      "metadata": {
        "id": "oNUSqoKaT3Pd"
      }
    }
  ]
}